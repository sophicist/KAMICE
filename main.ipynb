import numpy as np
height = [1.71,1.89,1.64,2.02]
weight = [70.4,81.3,65.7,90.0]
np_height = np.array(height)
np_weight = np.array(weight)

print(np_weight/np_height ** 2)

a = np.array([(1,2,3),(4,5,6)])
print(a)

def numpynum(n):
    a = np.array(n) ** 2
    b = np.array(n) ** 3
    c = a + b
    return c
print(numpynum(2))

#finding the dimension 
a = np.array([(1,2,3),(4,5,6)])
print(a.size)

#reshaping
a = np.array([(1,2,3,4),(5,6,7,8)])
a = a.reshape(4,2)
print(a)

#slicing
a = np.array([(1,2,3,4),(5,6,7,8),(9,10,11,12)])
"""i want to extract 3 from the array"""
print(a[0,2])
"""if i want to extract 4 n 8 """
print(a[0:,3])
"""the zero considers all the rows and the 3 identifies the third index in both rows"""
print(a[0:2,3])
"""the 0:2 is slicing up to the first element as it does not include the last  element"""

#line spacing [values that are spaced in equal value] i.e 1,2,3/2,4,6/4,8,12
a = np.linspace(1,3,10)
"""this is saying i need 5 value that are equally spaced btwn 1 and 3"""
print(a)

#min, max, sum
a = np.array([1,2,3])
print(a.max())
print(a.min())
print(a.sum())

#axis
a = np.array([(1,2,3,4),(5,6,7,8)])
print(a.sum(axis = 1))

#finding square root
a = np.array([(1,2,3,4),(5,6,7,8)])
print(np.std(a))

#basic maths i.e multipliication,division,subtraction,addition of arrays
a = np.array([(1,2,3,4),(5,6,7,8)])
b = np.array([(1,2,3,4),(5,6,7,8)])
print(np.hstack((a,b)))
print(a.ravel())

