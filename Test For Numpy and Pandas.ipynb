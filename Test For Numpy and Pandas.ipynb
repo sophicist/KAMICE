{
 "cells": [
  {
   "cell_type": "markdown",
   "metadata": {},
   "source": [
    "<img src = \"https://encrypted-tbn0.gstatic.com/images?q=tbn:ANd9GcTf9jjHK5jBt7-feZYrBTfxjH4nxQ4J3z3VqYOEeCOBwpe514iDEg\" height=50>\n",
    "\n",
    "# Exam for Numpy and Pandas"
   ]
  },
  {
   "cell_type": "code",
   "execution_count": 2,
   "metadata": {},
   "outputs": [
    {
     "ename": "SyntaxError",
     "evalue": "invalid syntax (<ipython-input-2-da0a5f2bfa4b>, line 3)",
     "output_type": "error",
     "traceback": [
      "\u001b[1;36m  File \u001b[1;32m\"<ipython-input-2-da0a5f2bfa4b>\"\u001b[1;36m, line \u001b[1;32m3\u001b[0m\n\u001b[1;33m    A =\u001b[0m\n\u001b[1;37m       ^\u001b[0m\n\u001b[1;31mSyntaxError\u001b[0m\u001b[1;31m:\u001b[0m invalid syntax\n"
     ]
    }
   ],
   "source": [
    "import numpy as np\n",
    "# create 5 X 5 numpy array from five lists\n",
    "A =\n",
    "#create a 5 X 5 numpy array from five lists\n",
    "B = \n",
    "# get the operation results of the arrays\n",
    "print(A+B)\n",
    "print(A*B)\n",
    "print(A/B)\n",
    "\n",
    "\n",
    "# Random numbers\n",
    "\n",
    "#generate a 100X5 numpy array from numpy\n",
    "C= \n",
    "#create a pandas dataframe using the above numpy with column names ['c1','c2','c3','c4','c5']\n",
    "import pandas as pd\n",
    "df =\n",
    "#print the first three rows of the dataframe\n",
    "#print the last 7 rows of the dataframe\n",
    "#get the summary statistics using the describe function\n",
    "#print out the shape of the dataframe\n",
    "\n",
    "print(df.info)\n",
    "print(df.isnull().sum())\n"
   ]
  },
  {
   "cell_type": "code",
   "execution_count": 3,
   "metadata": {},
   "outputs": [
    {
     "data": {
      "text/html": [
       "<div>\n",
       "<style scoped>\n",
       "    .dataframe tbody tr th:only-of-type {\n",
       "        vertical-align: middle;\n",
       "    }\n",
       "\n",
       "    .dataframe tbody tr th {\n",
       "        vertical-align: top;\n",
       "    }\n",
       "\n",
       "    .dataframe thead th {\n",
       "        text-align: right;\n",
       "    }\n",
       "</style>\n",
       "<table border=\"1\" class=\"dataframe\">\n",
       "  <thead>\n",
       "    <tr style=\"text-align: right;\">\n",
       "      <th></th>\n",
       "      <th>Date</th>\n",
       "      <th>Supplier</th>\n",
       "      <th>Invoice No</th>\n",
       "      <th>Expense Description</th>\n",
       "      <th>Payment Bank Account</th>\n",
       "      <th>Amount</th>\n",
       "      <th>VAT</th>\n",
       "      <th>Total</th>\n",
       "    </tr>\n",
       "  </thead>\n",
       "  <tbody>\n",
       "    <tr>\n",
       "      <th>0</th>\n",
       "      <td>2018-02-01 00:00:00</td>\n",
       "      <td>Zaesco Spa</td>\n",
       "      <td>0.0</td>\n",
       "      <td>entertainment</td>\n",
       "      <td>Cash</td>\n",
       "      <td>5100.00</td>\n",
       "      <td>0.00</td>\n",
       "      <td>5100</td>\n",
       "    </tr>\n",
       "    <tr>\n",
       "      <th>1</th>\n",
       "      <td>2018-02-01 00:00:00</td>\n",
       "      <td>Café Columbiana</td>\n",
       "      <td>0.0</td>\n",
       "      <td>meals</td>\n",
       "      <td>Cash</td>\n",
       "      <td>300.00</td>\n",
       "      <td>0.00</td>\n",
       "      <td>300</td>\n",
       "    </tr>\n",
       "    <tr>\n",
       "      <th>2</th>\n",
       "      <td>2018-03-01 00:00:00</td>\n",
       "      <td>Boostop Limited</td>\n",
       "      <td>0.0</td>\n",
       "      <td>office supplies</td>\n",
       "      <td>Cash</td>\n",
       "      <td>1200.00</td>\n",
       "      <td>0.00</td>\n",
       "      <td>1200</td>\n",
       "    </tr>\n",
       "    <tr>\n",
       "      <th>3</th>\n",
       "      <td>2018-03-01 00:00:00</td>\n",
       "      <td>Nairobi Java House</td>\n",
       "      <td>0.0</td>\n",
       "      <td>meals</td>\n",
       "      <td>Cash</td>\n",
       "      <td>2290.00</td>\n",
       "      <td>0.00</td>\n",
       "      <td>2290</td>\n",
       "    </tr>\n",
       "    <tr>\n",
       "      <th>4</th>\n",
       "      <td>2018-04-01 00:00:00</td>\n",
       "      <td>Nairobi Java House</td>\n",
       "      <td>0.0</td>\n",
       "      <td>meals</td>\n",
       "      <td>Cash</td>\n",
       "      <td>1348.48</td>\n",
       "      <td>211.52</td>\n",
       "      <td>1560</td>\n",
       "    </tr>\n",
       "  </tbody>\n",
       "</table>\n",
       "</div>"
      ],
      "text/plain": [
       "                  Date            Supplier  Invoice No Expense Description  \\\n",
       "0  2018-02-01 00:00:00          Zaesco Spa         0.0       entertainment   \n",
       "1  2018-02-01 00:00:00     Café Columbiana         0.0               meals   \n",
       "2  2018-03-01 00:00:00     Boostop Limited         0.0     office supplies   \n",
       "3  2018-03-01 00:00:00  Nairobi Java House         0.0               meals   \n",
       "4  2018-04-01 00:00:00  Nairobi Java House         0.0               meals   \n",
       "\n",
       "  Payment Bank Account   Amount     VAT  Total  \n",
       "0                 Cash  5100.00    0.00   5100  \n",
       "1                 Cash   300.00    0.00    300  \n",
       "2                 Cash  1200.00    0.00   1200  \n",
       "3                 Cash  2290.00    0.00   2290  \n",
       "4                 Cash  1348.48  211.52   1560  "
      ]
     },
     "execution_count": 3,
     "metadata": {},
     "output_type": "execute_result"
    }
   ],
   "source": [
    "#practical use of dataframes\n",
    "#import os\n",
    "#os.listdir()\n",
    "import pandas as pd\n",
    "data =pd.read_excel('Test.xlsx')\n",
    "\n",
    "data =data.fillna(0)\n",
    "data.head()"
   ]
  },
  {
   "cell_type": "code",
   "execution_count": null,
   "metadata": {},
   "outputs": [],
   "source": [
    "#select the \"Totals\" column\n",
    "T = \n",
    "print(T[:20])\n",
    "#get the sum of the totals column \n",
    "X =\n",
    "print(X)\n",
    "#get the sum of the Vat column\n",
    "V =\n",
    "print(V)\n",
    "\n",
    "#create another dataframe with the date,Amount and vat columns alone\n",
    "H =\n",
    "print(H.head())\n",
    "\n",
    "#select the first three rows alone\n",
    "R =\n",
    "print(R)"
   ]
  },
  {
   "cell_type": "code",
   "execution_count": null,
   "metadata": {},
   "outputs": [],
   "source": []
  },
  {
   "cell_type": "code",
   "execution_count": null,
   "metadata": {},
   "outputs": [],
   "source": []
  }
 ],
 "metadata": {
  "kernelspec": {
   "display_name": "Python 3",
   "language": "python",
   "name": "python3"
  },
  "language_info": {
   "codemirror_mode": {
    "name": "ipython",
    "version": 3
   },
   "file_extension": ".py",
   "mimetype": "text/x-python",
   "name": "python",
   "nbconvert_exporter": "python",
   "pygments_lexer": "ipython3",
   "version": "3.7.0"
  }
 },
 "nbformat": 4,
 "nbformat_minor": 2
}
