{
 "cells": [
  {
   "cell_type": "code",
   "execution_count": 1,
   "metadata": {},
   "outputs": [
    {
     "name": "stdout",
     "output_type": "stream",
     "text": [
      "[ 24.075784    22.75972117  24.42742415  22.05666111]\n",
      "[[1 2 3]\n",
      " [4 5 6]]\n",
      "12\n",
      "6\n",
      "[[1 2]\n",
      " [3 4]\n",
      " [5 6]\n",
      " [7 8]]\n",
      "3\n",
      "[ 4  8 12]\n",
      "[4 8]\n",
      "[ 1.          1.22222222  1.44444444  1.66666667  1.88888889  2.11111111\n",
      "  2.33333333  2.55555556  2.77777778  3.        ]\n",
      "3\n",
      "1\n",
      "6\n",
      "[10 26]\n",
      "2.29128784748\n",
      "[[1 2 3 4 1 2 3 4]\n",
      " [5 6 7 8 5 6 7 8]]\n",
      "[1 2 3 4 5 6 7 8]\n"
     ]
    }
   ],
   "source": [
    "import numpy as np\n",
    "height = [1.71,1.89,1.64,2.02]\n",
    "weight = [70.4,81.3,65.7,90.0]\n",
    "np_height = np.array(height)\n",
    "np_weight = np.array(weight)\n",
    "\n",
    "print(np_weight/np_height ** 2)\n",
    "\n",
    "a = np.array([(1,2,3),(4,5,6)])\n",
    "print(a)\n",
    "\n",
    "def numpynum(n):\n",
    "    a = np.array(n) ** 2\n",
    "    b = np.array(n) ** 3\n",
    "    c = a + b\n",
    "    return c\n",
    "print(numpynum(2))\n",
    "\n",
    "#finding the dimension \n",
    "a = np.array([(1,2,3),(4,5,6)])\n",
    "print(a.size)\n",
    "\n",
    "#reshaping\n",
    "a = np.array([(1,2,3,4),(5,6,7,8)])\n",
    "a = a.reshape(4,2)\n",
    "print(a)\n",
    "\n",
    "#slicing\n",
    "a = np.array([(1,2,3,4),(5,6,7,8),(9,10,11,12)])\n",
    "\"\"\"i want to extract 3 from the array\"\"\"\n",
    "print(a[0,2])\n",
    "\"\"\"if i want to extract 4 n 8 \"\"\"\n",
    "print(a[0:,3])\n",
    "\"\"\"the zero considers all the rows and the 3 identifies the third index in both rows\"\"\"\n",
    "print(a[0:2,3])\n",
    "\"\"\"the 0:2 is slicing up to the first element as it does not include the last  element\"\"\"\n",
    "\n",
    "#line spacing [values that are spaced in equal value] i.e 1,2,3/2,4,6/4,8,12\n",
    "a = np.linspace(1,3,10)\n",
    "\"\"\"this is saying i need 5 value that are equally spaced btwn 1 and 3\"\"\"\n",
    "print(a)\n",
    "\n",
    "#min, max, sum\n",
    "a = np.array([1,2,3])\n",
    "print(a.max())\n",
    "print(a.min())\n",
    "print(a.sum())\n",
    "\n",
    "#axis\n",
    "a = np.array([(1,2,3,4),(5,6,7,8)])\n",
    "print(a.sum(axis = 1))\n",
    "\n",
    "#finding square root\n",
    "a = np.array([(1,2,3,4),(5,6,7,8)])\n",
    "print(np.std(a))\n",
    "\n",
    "#basic maths i.e multipliication,division,subtraction,addition of arrays\n",
    "a = np.array([(1,2,3,4),(5,6,7,8)])\n",
    "b = np.array([(1,2,3,4),(5,6,7,8)])\n",
    "print(np.hstack((a,b)))\n",
    "print(a.ravel())\n",
    "\n"
   ]
  },
  {
   "cell_type": "code",
   "execution_count": 2,
   "metadata": {},
   "outputs": [
    {
     "data": {
      "text/plain": [
       "array(['thende', 'Njiru'], \n",
       "      dtype='<U6')"
      ]
     },
     "execution_count": 2,
     "metadata": {},
     "output_type": "execute_result"
    }
   ],
   "source": [
    "#this is the additition\n",
    "x = [\"thende\",'Njiru']\n",
    "x =np.array(x)\n",
    "x"
   ]
  },
  {
   "cell_type": "code",
   "execution_count": 1,
   "metadata": {},
   "outputs": [
    {
     "name": "stdout",
     "output_type": "stream",
     "text": [
      "anything\n"
     ]
    }
   ],
   "source": [
    "print('anything')"
   ]
  },
  {
   "cell_type": "code",
   "execution_count": 11,
   "metadata": {},
   "outputs": [
    {
     "name": "stdout",
     "output_type": "stream",
     "text": [
      "fuck you, thats not a string\n"
     ]
    }
   ],
   "source": [
    "strs = 'thrasymachus'\n",
    "H =[\"kamau\",\"hahahaha\",10,\"therefore\"]\n",
    "def string(strings):\n",
    "    try:\n",
    "        for i in strings:\n",
    "            print(i)\n",
    "    except:\n",
    "        print(\"fuck you, thats not a string\")\n",
    "def string1(strings):\n",
    "    #try:\n",
    "    for i in strings:\n",
    "        print(i)\n",
    "    \n",
    "#string(strs)\n",
    "string(90)\n"
   ]
  },
  {
   "cell_type": "code",
   "execution_count": 16,
   "metadata": {},
   "outputs": [
    {
     "name": "stdout",
     "output_type": "stream",
     "text": [
      "k\n",
      "a\n",
      "m\n",
      "a\n",
      "u\n",
      "h\n",
      "a\n",
      "h\n",
      "a\n",
      "h\n",
      "a\n",
      "h\n",
      "a\n"
     ]
    },
    {
     "ename": "TypeError",
     "evalue": "'int' object is not iterable",
     "output_type": "error",
     "traceback": [
      "\u001b[1;31m---------------------------------------------------------------------------\u001b[0m",
      "\u001b[1;31mTypeError\u001b[0m                                 Traceback (most recent call last)",
      "\u001b[1;32m<ipython-input-16-320d1dff3bc6>\u001b[0m in \u001b[0;36m<module>\u001b[1;34m()\u001b[0m\n\u001b[0;32m      6\u001b[0m         \u001b[1;32mpass\u001b[0m\u001b[1;33m\u001b[0m\u001b[0m\n\u001b[0;32m      7\u001b[0m     \u001b[1;32melse\u001b[0m\u001b[1;33m:\u001b[0m\u001b[1;33m\u001b[0m\u001b[0m\n\u001b[1;32m----> 8\u001b[1;33m         \u001b[0mstring1\u001b[0m\u001b[1;33m(\u001b[0m\u001b[0mi\u001b[0m\u001b[1;33m)\u001b[0m\u001b[1;33m\u001b[0m\u001b[0m\n\u001b[0m\u001b[0;32m      9\u001b[0m \u001b[1;33m\u001b[0m\u001b[0m\n",
      "\u001b[1;32m<ipython-input-11-d20d35187a6b>\u001b[0m in \u001b[0;36mstring1\u001b[1;34m(strings)\u001b[0m\n\u001b[0;32m      9\u001b[0m \u001b[1;32mdef\u001b[0m \u001b[0mstring1\u001b[0m\u001b[1;33m(\u001b[0m\u001b[0mstrings\u001b[0m\u001b[1;33m)\u001b[0m\u001b[1;33m:\u001b[0m\u001b[1;33m\u001b[0m\u001b[0m\n\u001b[0;32m     10\u001b[0m     \u001b[1;31m#try:\u001b[0m\u001b[1;33m\u001b[0m\u001b[1;33m\u001b[0m\u001b[0m\n\u001b[1;32m---> 11\u001b[1;33m     \u001b[1;32mfor\u001b[0m \u001b[0mi\u001b[0m \u001b[1;32min\u001b[0m \u001b[0mstrings\u001b[0m\u001b[1;33m:\u001b[0m\u001b[1;33m\u001b[0m\u001b[0m\n\u001b[0m\u001b[0;32m     12\u001b[0m         \u001b[0mprint\u001b[0m\u001b[1;33m(\u001b[0m\u001b[0mi\u001b[0m\u001b[1;33m)\u001b[0m\u001b[1;33m\u001b[0m\u001b[0m\n\u001b[0;32m     13\u001b[0m \u001b[1;33m\u001b[0m\u001b[0m\n",
      "\u001b[1;31mTypeError\u001b[0m: 'int' object is not iterable"
     ]
    }
   ],
   "source": [
    "#for i in H:\n",
    "    #string(i)\n",
    "for i in H:\n",
    "    \n",
    "    if H == 10:\n",
    "        pass\n",
    "    else:\n",
    "        string1(i)\n",
    "    "
   ]
  }
 ],
 "metadata": {
  "kernelspec": {
   "display_name": "Python 3",
   "language": "python",
   "name": "python3"
  },
  "language_info": {
   "codemirror_mode": {
    "name": "ipython",
    "version": 3
   },
   "file_extension": ".py",
   "mimetype": "text/x-python",
   "name": "python",
   "nbconvert_exporter": "python",
   "pygments_lexer": "ipython3",
   "version": "3.7.0"
  }
 },
 "nbformat": 4,
 "nbformat_minor": 2
}
